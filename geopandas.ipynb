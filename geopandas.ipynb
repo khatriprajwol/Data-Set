{
  "nbformat": 4,
  "nbformat_minor": 0,
  "metadata": {
    "colab": {
      "provenance": [],
      "collapsed_sections": [],
      "authorship_tag": "ABX9TyM0b1gHk8qQddGqzZ0RjEnM",
      "include_colab_link": true
    },
    "kernelspec": {
      "name": "python3",
      "display_name": "Python 3"
    },
    "language_info": {
      "name": "python"
    }
  },
  "cells": [
    {
      "cell_type": "markdown",
      "metadata": {
        "id": "view-in-github",
        "colab_type": "text"
      },
      "source": [
        "<a href=\"https://colab.research.google.com/github/khatriprajwol/Data-Set/blob/main/geopandas.ipynb\" target=\"_parent\"><img src=\"https://colab.research.google.com/assets/colab-badge.svg\" alt=\"Open In Colab\"/></a>"
      ]
    },
    {
      "cell_type": "markdown",
      "source": [
        "## We can always use **!pip install geopandas** to install library. "
      ],
      "metadata": {
        "id": "EMsGfY_iz3t7"
      }
    },
    {
      "cell_type": "code",
      "execution_count": 4,
      "metadata": {
        "id": "8yBDwsEmyaQJ"
      },
      "outputs": [],
      "source": [
        "# !pip install geopandas"
      ]
    },
    {
      "cell_type": "markdown",
      "source": [
        "##Importing geopandas as gp"
      ],
      "metadata": {
        "id": "Xh6sLqSjzzbc"
      }
    },
    {
      "cell_type": "code",
      "source": [
        "import geopandas as gp"
      ],
      "metadata": {
        "id": "Z2VKbguYyuCA"
      },
      "execution_count": 5,
      "outputs": []
    },
    {
      "cell_type": "markdown",
      "source": [
        "##Available  Data Sets "
      ],
      "metadata": {
        "id": "CYPnIoW5zvwE"
      }
    },
    {
      "cell_type": "code",
      "source": [
        "gp.datasets.available"
      ],
      "metadata": {
        "colab": {
          "base_uri": "https://localhost:8080/"
        },
        "id": "20mbp7zMyxLZ",
        "outputId": "4f346b4f-0c65-4d6d-fc39-bca591f6586b"
      },
      "execution_count": 6,
      "outputs": [
        {
          "output_type": "execute_result",
          "data": {
            "text/plain": [
              "['naturalearth_lowres', 'naturalearth_cities', 'nybb']"
            ]
          },
          "metadata": {},
          "execution_count": 6
        }
      ]
    },
    {
      "cell_type": "code",
      "source": [
        "lowres = gp.datasets.get_path('naturalearth_lowres')\n",
        "df = gp.read_file(lowres)\n",
        "df"
      ],
      "metadata": {
        "colab": {
          "base_uri": "https://localhost:8080/",
          "height": 424
        },
        "id": "qRYf0t6xzVlg",
        "outputId": "5aa40ec6-f526-4600-e474-bd1470b950ac"
      },
      "execution_count": 11,
      "outputs": [
        {
          "output_type": "execute_result",
          "data": {
            "text/plain": [
              "       pop_est      continent                      name iso_a3  gdp_md_est  \\\n",
              "0       920938        Oceania                      Fiji    FJI      8374.0   \n",
              "1     53950935         Africa                  Tanzania    TZA    150600.0   \n",
              "2       603253         Africa                 W. Sahara    ESH       906.5   \n",
              "3     35623680  North America                    Canada    CAN   1674000.0   \n",
              "4    326625791  North America  United States of America    USA  18560000.0   \n",
              "..         ...            ...                       ...    ...         ...   \n",
              "172    7111024         Europe                    Serbia    SRB    101800.0   \n",
              "173     642550         Europe                Montenegro    MNE     10610.0   \n",
              "174    1895250         Europe                    Kosovo    -99     18490.0   \n",
              "175    1218208  North America       Trinidad and Tobago    TTO     43570.0   \n",
              "176   13026129         Africa                  S. Sudan    SSD     20880.0   \n",
              "\n",
              "                                              geometry  \n",
              "0    MULTIPOLYGON (((180.00000 -16.06713, 180.00000...  \n",
              "1    POLYGON ((33.90371 -0.95000, 34.07262 -1.05982...  \n",
              "2    POLYGON ((-8.66559 27.65643, -8.66512 27.58948...  \n",
              "3    MULTIPOLYGON (((-122.84000 49.00000, -122.9742...  \n",
              "4    MULTIPOLYGON (((-122.84000 49.00000, -120.0000...  \n",
              "..                                                 ...  \n",
              "172  POLYGON ((18.82982 45.90887, 18.82984 45.90888...  \n",
              "173  POLYGON ((20.07070 42.58863, 19.80161 42.50009...  \n",
              "174  POLYGON ((20.59025 41.85541, 20.52295 42.21787...  \n",
              "175  POLYGON ((-61.68000 10.76000, -61.10500 10.890...  \n",
              "176  POLYGON ((30.83385 3.50917, 29.95350 4.17370, ...  \n",
              "\n",
              "[177 rows x 6 columns]"
            ],
            "text/html": [
              "\n",
              "  <div id=\"df-5d116b12-92ac-4bbe-a778-551773def655\">\n",
              "    <div class=\"colab-df-container\">\n",
              "      <div>\n",
              "<style scoped>\n",
              "    .dataframe tbody tr th:only-of-type {\n",
              "        vertical-align: middle;\n",
              "    }\n",
              "\n",
              "    .dataframe tbody tr th {\n",
              "        vertical-align: top;\n",
              "    }\n",
              "\n",
              "    .dataframe thead th {\n",
              "        text-align: right;\n",
              "    }\n",
              "</style>\n",
              "<table border=\"1\" class=\"dataframe\">\n",
              "  <thead>\n",
              "    <tr style=\"text-align: right;\">\n",
              "      <th></th>\n",
              "      <th>pop_est</th>\n",
              "      <th>continent</th>\n",
              "      <th>name</th>\n",
              "      <th>iso_a3</th>\n",
              "      <th>gdp_md_est</th>\n",
              "      <th>geometry</th>\n",
              "    </tr>\n",
              "  </thead>\n",
              "  <tbody>\n",
              "    <tr>\n",
              "      <th>0</th>\n",
              "      <td>920938</td>\n",
              "      <td>Oceania</td>\n",
              "      <td>Fiji</td>\n",
              "      <td>FJI</td>\n",
              "      <td>8374.0</td>\n",
              "      <td>MULTIPOLYGON (((180.00000 -16.06713, 180.00000...</td>\n",
              "    </tr>\n",
              "    <tr>\n",
              "      <th>1</th>\n",
              "      <td>53950935</td>\n",
              "      <td>Africa</td>\n",
              "      <td>Tanzania</td>\n",
              "      <td>TZA</td>\n",
              "      <td>150600.0</td>\n",
              "      <td>POLYGON ((33.90371 -0.95000, 34.07262 -1.05982...</td>\n",
              "    </tr>\n",
              "    <tr>\n",
              "      <th>2</th>\n",
              "      <td>603253</td>\n",
              "      <td>Africa</td>\n",
              "      <td>W. Sahara</td>\n",
              "      <td>ESH</td>\n",
              "      <td>906.5</td>\n",
              "      <td>POLYGON ((-8.66559 27.65643, -8.66512 27.58948...</td>\n",
              "    </tr>\n",
              "    <tr>\n",
              "      <th>3</th>\n",
              "      <td>35623680</td>\n",
              "      <td>North America</td>\n",
              "      <td>Canada</td>\n",
              "      <td>CAN</td>\n",
              "      <td>1674000.0</td>\n",
              "      <td>MULTIPOLYGON (((-122.84000 49.00000, -122.9742...</td>\n",
              "    </tr>\n",
              "    <tr>\n",
              "      <th>4</th>\n",
              "      <td>326625791</td>\n",
              "      <td>North America</td>\n",
              "      <td>United States of America</td>\n",
              "      <td>USA</td>\n",
              "      <td>18560000.0</td>\n",
              "      <td>MULTIPOLYGON (((-122.84000 49.00000, -120.0000...</td>\n",
              "    </tr>\n",
              "    <tr>\n",
              "      <th>...</th>\n",
              "      <td>...</td>\n",
              "      <td>...</td>\n",
              "      <td>...</td>\n",
              "      <td>...</td>\n",
              "      <td>...</td>\n",
              "      <td>...</td>\n",
              "    </tr>\n",
              "    <tr>\n",
              "      <th>172</th>\n",
              "      <td>7111024</td>\n",
              "      <td>Europe</td>\n",
              "      <td>Serbia</td>\n",
              "      <td>SRB</td>\n",
              "      <td>101800.0</td>\n",
              "      <td>POLYGON ((18.82982 45.90887, 18.82984 45.90888...</td>\n",
              "    </tr>\n",
              "    <tr>\n",
              "      <th>173</th>\n",
              "      <td>642550</td>\n",
              "      <td>Europe</td>\n",
              "      <td>Montenegro</td>\n",
              "      <td>MNE</td>\n",
              "      <td>10610.0</td>\n",
              "      <td>POLYGON ((20.07070 42.58863, 19.80161 42.50009...</td>\n",
              "    </tr>\n",
              "    <tr>\n",
              "      <th>174</th>\n",
              "      <td>1895250</td>\n",
              "      <td>Europe</td>\n",
              "      <td>Kosovo</td>\n",
              "      <td>-99</td>\n",
              "      <td>18490.0</td>\n",
              "      <td>POLYGON ((20.59025 41.85541, 20.52295 42.21787...</td>\n",
              "    </tr>\n",
              "    <tr>\n",
              "      <th>175</th>\n",
              "      <td>1218208</td>\n",
              "      <td>North America</td>\n",
              "      <td>Trinidad and Tobago</td>\n",
              "      <td>TTO</td>\n",
              "      <td>43570.0</td>\n",
              "      <td>POLYGON ((-61.68000 10.76000, -61.10500 10.890...</td>\n",
              "    </tr>\n",
              "    <tr>\n",
              "      <th>176</th>\n",
              "      <td>13026129</td>\n",
              "      <td>Africa</td>\n",
              "      <td>S. Sudan</td>\n",
              "      <td>SSD</td>\n",
              "      <td>20880.0</td>\n",
              "      <td>POLYGON ((30.83385 3.50917, 29.95350 4.17370, ...</td>\n",
              "    </tr>\n",
              "  </tbody>\n",
              "</table>\n",
              "<p>177 rows × 6 columns</p>\n",
              "</div>\n",
              "      <button class=\"colab-df-convert\" onclick=\"convertToInteractive('df-5d116b12-92ac-4bbe-a778-551773def655')\"\n",
              "              title=\"Convert this dataframe to an interactive table.\"\n",
              "              style=\"display:none;\">\n",
              "        \n",
              "  <svg xmlns=\"http://www.w3.org/2000/svg\" height=\"24px\"viewBox=\"0 0 24 24\"\n",
              "       width=\"24px\">\n",
              "    <path d=\"M0 0h24v24H0V0z\" fill=\"none\"/>\n",
              "    <path d=\"M18.56 5.44l.94 2.06.94-2.06 2.06-.94-2.06-.94-.94-2.06-.94 2.06-2.06.94zm-11 1L8.5 8.5l.94-2.06 2.06-.94-2.06-.94L8.5 2.5l-.94 2.06-2.06.94zm10 10l.94 2.06.94-2.06 2.06-.94-2.06-.94-.94-2.06-.94 2.06-2.06.94z\"/><path d=\"M17.41 7.96l-1.37-1.37c-.4-.4-.92-.59-1.43-.59-.52 0-1.04.2-1.43.59L10.3 9.45l-7.72 7.72c-.78.78-.78 2.05 0 2.83L4 21.41c.39.39.9.59 1.41.59.51 0 1.02-.2 1.41-.59l7.78-7.78 2.81-2.81c.8-.78.8-2.07 0-2.86zM5.41 20L4 18.59l7.72-7.72 1.47 1.35L5.41 20z\"/>\n",
              "  </svg>\n",
              "      </button>\n",
              "      \n",
              "  <style>\n",
              "    .colab-df-container {\n",
              "      display:flex;\n",
              "      flex-wrap:wrap;\n",
              "      gap: 12px;\n",
              "    }\n",
              "\n",
              "    .colab-df-convert {\n",
              "      background-color: #E8F0FE;\n",
              "      border: none;\n",
              "      border-radius: 50%;\n",
              "      cursor: pointer;\n",
              "      display: none;\n",
              "      fill: #1967D2;\n",
              "      height: 32px;\n",
              "      padding: 0 0 0 0;\n",
              "      width: 32px;\n",
              "    }\n",
              "\n",
              "    .colab-df-convert:hover {\n",
              "      background-color: #E2EBFA;\n",
              "      box-shadow: 0px 1px 2px rgba(60, 64, 67, 0.3), 0px 1px 3px 1px rgba(60, 64, 67, 0.15);\n",
              "      fill: #174EA6;\n",
              "    }\n",
              "\n",
              "    [theme=dark] .colab-df-convert {\n",
              "      background-color: #3B4455;\n",
              "      fill: #D2E3FC;\n",
              "    }\n",
              "\n",
              "    [theme=dark] .colab-df-convert:hover {\n",
              "      background-color: #434B5C;\n",
              "      box-shadow: 0px 1px 3px 1px rgba(0, 0, 0, 0.15);\n",
              "      filter: drop-shadow(0px 1px 2px rgba(0, 0, 0, 0.3));\n",
              "      fill: #FFFFFF;\n",
              "    }\n",
              "  </style>\n",
              "\n",
              "      <script>\n",
              "        const buttonEl =\n",
              "          document.querySelector('#df-5d116b12-92ac-4bbe-a778-551773def655 button.colab-df-convert');\n",
              "        buttonEl.style.display =\n",
              "          google.colab.kernel.accessAllowed ? 'block' : 'none';\n",
              "\n",
              "        async function convertToInteractive(key) {\n",
              "          const element = document.querySelector('#df-5d116b12-92ac-4bbe-a778-551773def655');\n",
              "          const dataTable =\n",
              "            await google.colab.kernel.invokeFunction('convertToInteractive',\n",
              "                                                     [key], {});\n",
              "          if (!dataTable) return;\n",
              "\n",
              "          const docLinkHtml = 'Like what you see? Visit the ' +\n",
              "            '<a target=\"_blank\" href=https://colab.research.google.com/notebooks/data_table.ipynb>data table notebook</a>'\n",
              "            + ' to learn more about interactive tables.';\n",
              "          element.innerHTML = '';\n",
              "          dataTable['output_type'] = 'display_data';\n",
              "          await google.colab.output.renderOutput(dataTable, element);\n",
              "          const docLink = document.createElement('div');\n",
              "          docLink.innerHTML = docLinkHtml;\n",
              "          element.appendChild(docLink);\n",
              "        }\n",
              "      </script>\n",
              "    </div>\n",
              "  </div>\n",
              "  "
            ]
          },
          "metadata": {},
          "execution_count": 11
        }
      ]
    },
    {
      "cell_type": "code",
      "source": [
        "df.plot()"
      ],
      "metadata": {
        "id": "VN2DMYe43dMe",
        "outputId": "5cc29128-d2f2-4d77-aee3-bdc4a8c21276",
        "colab": {
          "base_uri": "https://localhost:8080/",
          "height": 227
        }
      },
      "execution_count": 15,
      "outputs": [
        {
          "output_type": "execute_result",
          "data": {
            "text/plain": [
              "<matplotlib.axes._subplots.AxesSubplot at 0x7f772d57add0>"
            ]
          },
          "metadata": {},
          "execution_count": 15
        },
        {
          "output_type": "display_data",
          "data": {
            "text/plain": [
              "<Figure size 432x288 with 1 Axes>"
            ],
            "image/png": "[encoded data removed]"
          },
          "metadata": {
            "needs_background": "light"
          }
        }
      ]
    },
    {
      "cell_type": "code",
      "source": [
        "cities= gp.datasets.get_path('naturalearth_cities')\n",
        "df1 = gp.read_file(cities)\n",
        "df1"
      ],
      "metadata": {
        "id": "kgu4bhJW57AS",
        "outputId": "db40a11c-1fe0-4a9d-a540-1bc9009f6e8b",
        "colab": {
          "base_uri": "https://localhost:8080/",
          "height": 424
        }
      },
      "execution_count": 16,
      "outputs": [
        {
          "output_type": "execute_result",
          "data": {
            "text/plain": [
              "             name                     geometry\n",
              "0    Vatican City    POINT (12.45339 41.90328)\n",
              "1      San Marino    POINT (12.44177 43.93610)\n",
              "2           Vaduz     POINT (9.51667 47.13372)\n",
              "3      Luxembourg     POINT (6.13000 49.61166)\n",
              "4         Palikir    POINT (158.14997 6.91664)\n",
              "..            ...                          ...\n",
              "197         Cairo    POINT (31.24802 30.05191)\n",
              "198         Tokyo   POINT (139.74946 35.68696)\n",
              "199         Paris     POINT (2.33139 48.86864)\n",
              "200      Santiago  POINT (-70.66899 -33.44807)\n",
              "201     Singapore    POINT (103.85387 1.29498)\n",
              "\n",
              "[202 rows x 2 columns]"
            ],
            "text/html": [
              "\n",
              "  <div id=\"df-d27b86b9-6adb-40c6-9b2d-fca0c040afae\">\n",
              "    <div class=\"colab-df-container\">\n",
              "      <div>\n",
              "<style scoped>\n",
              "    .dataframe tbody tr th:only-of-type {\n",
              "        vertical-align: middle;\n",
              "    }\n",
              "\n",
              "    .dataframe tbody tr th {\n",
              "        vertical-align: top;\n",
              "    }\n",
              "\n",
              "    .dataframe thead th {\n",
              "        text-align: right;\n",
              "    }\n",
              "</style>\n",
              "<table border=\"1\" class=\"dataframe\">\n",
              "  <thead>\n",
              "    <tr style=\"text-align: right;\">\n",
              "      <th></th>\n",
              "      <th>name</th>\n",
              "      <th>geometry</th>\n",
              "    </tr>\n",
              "  </thead>\n",
              "  <tbody>\n",
              "    <tr>\n",
              "      <th>0</th>\n",
              "      <td>Vatican City</td>\n",
              "      <td>POINT (12.45339 41.90328)</td>\n",
              "    </tr>\n",
              "    <tr>\n",
              "      <th>1</th>\n",
              "      <td>San Marino</td>\n",
              "      <td>POINT (12.44177 43.93610)</td>\n",
              "    </tr>\n",
              "    <tr>\n",
              "      <th>2</th>\n",
              "      <td>Vaduz</td>\n",
              "      <td>POINT (9.51667 47.13372)</td>\n",
              "    </tr>\n",
              "    <tr>\n",
              "      <th>3</th>\n",
              "      <td>Luxembourg</td>\n",
              "      <td>POINT (6.13000 49.61166)</td>\n",
              "    </tr>\n",
              "    <tr>\n",
              "      <th>4</th>\n",
              "      <td>Palikir</td>\n",
              "      <td>POINT (158.14997 6.91664)</td>\n",
              "    </tr>\n",
              "    <tr>\n",
              "      <th>...</th>\n",
              "      <td>...</td>\n",
              "      <td>...</td>\n",
              "    </tr>\n",
              "    <tr>\n",
              "      <th>197</th>\n",
              "      <td>Cairo</td>\n",
              "      <td>POINT (31.24802 30.05191)</td>\n",
              "    </tr>\n",
              "    <tr>\n",
              "      <th>198</th>\n",
              "      <td>Tokyo</td>\n",
              "      <td>POINT (139.74946 35.68696)</td>\n",
              "    </tr>\n",
              "    <tr>\n",
              "      <th>199</th>\n",
              "      <td>Paris</td>\n",
              "      <td>POINT (2.33139 48.86864)</td>\n",
              "    </tr>\n",
              "    <tr>\n",
              "      <th>200</th>\n",
              "      <td>Santiago</td>\n",
              "      <td>POINT (-70.66899 -33.44807)</td>\n",
              "    </tr>\n",
              "    <tr>\n",
              "      <th>201</th>\n",
              "      <td>Singapore</td>\n",
              "      <td>POINT (103.85387 1.29498)</td>\n",
              "    </tr>\n",
              "  </tbody>\n",
              "</table>\n",
              "<p>202 rows × 2 columns</p>\n",
              "</div>\n",
              "      <button class=\"colab-df-convert\" onclick=\"convertToInteractive('df-d27b86b9-6adb-40c6-9b2d-fca0c040afae')\"\n",
              "              title=\"Convert this dataframe to an interactive table.\"\n",
              "              style=\"display:none;\">\n",
              "        \n",
              "  <svg xmlns=\"http://www.w3.org/2000/svg\" height=\"24px\"viewBox=\"0 0 24 24\"\n",
              "       width=\"24px\">\n",
              "    <path d=\"M0 0h24v24H0V0z\" fill=\"none\"/>\n",
              "    <path d=\"M18.56 5.44l.94 2.06.94-2.06 2.06-.94-2.06-.94-.94-2.06-.94 2.06-2.06.94zm-11 1L8.5 8.5l.94-2.06 2.06-.94-2.06-.94L8.5 2.5l-.94 2.06-2.06.94zm10 10l.94 2.06.94-2.06 2.06-.94-2.06-.94-.94-2.06-.94 2.06-2.06.94z\"/><path d=\"M17.41 7.96l-1.37-1.37c-.4-.4-.92-.59-1.43-.59-.52 0-1.04.2-1.43.59L10.3 9.45l-7.72 7.72c-.78.78-.78 2.05 0 2.83L4 21.41c.39.39.9.59 1.41.59.51 0 1.02-.2 1.41-.59l7.78-7.78 2.81-2.81c.8-.78.8-2.07 0-2.86zM5.41 20L4 18.59l7.72-7.72 1.47 1.35L5.41 20z\"/>\n",
              "  </svg>\n",
              "      </button>\n",
              "      \n",
              "  <style>\n",
              "    .colab-df-container {\n",
              "      display:flex;\n",
              "      flex-wrap:wrap;\n",
              "      gap: 12px;\n",
              "    }\n",
              "\n",
              "    .colab-df-convert {\n",
              "      background-color: #E8F0FE;\n",
              "      border: none;\n",
              "      border-radius: 50%;\n",
              "      cursor: pointer;\n",
              "      display: none;\n",
              "      fill: #1967D2;\n",
              "      height: 32px;\n",
              "      padding: 0 0 0 0;\n",
              "      width: 32px;\n",
              "    }\n",
              "\n",
              "    .colab-df-convert:hover {\n",
              "      background-color: #E2EBFA;\n",
              "      box-shadow: 0px 1px 2px rgba(60, 64, 67, 0.3), 0px 1px 3px 1px rgba(60, 64, 67, 0.15);\n",
              "      fill: #174EA6;\n",
              "    }\n",
              "\n",
              "    [theme=dark] .colab-df-convert {\n",
              "      background-color: #3B4455;\n",
              "      fill: #D2E3FC;\n",
              "    }\n",
              "\n",
              "    [theme=dark] .colab-df-convert:hover {\n",
              "      background-color: #434B5C;\n",
              "      box-shadow: 0px 1px 3px 1px rgba(0, 0, 0, 0.15);\n",
              "      filter: drop-shadow(0px 1px 2px rgba(0, 0, 0, 0.3));\n",
              "      fill: #FFFFFF;\n",
              "    }\n",
              "  </style>\n",
              "\n",
              "      <script>\n",
              "        const buttonEl =\n",
              "          document.querySelector('#df-d27b86b9-6adb-40c6-9b2d-fca0c040afae button.colab-df-convert');\n",
              "        buttonEl.style.display =\n",
              "          google.colab.kernel.accessAllowed ? 'block' : 'none';\n",
              "\n",
              "        async function convertToInteractive(key) {\n",
              "          const element = document.querySelector('#df-d27b86b9-6adb-40c6-9b2d-fca0c040afae');\n",
              "          const dataTable =\n",
              "            await google.colab.kernel.invokeFunction('convertToInteractive',\n",
              "                                                     [key], {});\n",
              "          if (!dataTable) return;\n",
              "\n",
              "          const docLinkHtml = 'Like what you see? Visit the ' +\n",
              "            '<a target=\"_blank\" href=https://colab.research.google.com/notebooks/data_table.ipynb>data table notebook</a>'\n",
              "            + ' to learn more about interactive tables.';\n",
              "          element.innerHTML = '';\n",
              "          dataTable['output_type'] = 'display_data';\n",
              "          await google.colab.output.renderOutput(dataTable, element);\n",
              "          const docLink = document.createElement('div');\n",
              "          docLink.innerHTML = docLinkHtml;\n",
              "          element.appendChild(docLink);\n",
              "        }\n",
              "      </script>\n",
              "    </div>\n",
              "  </div>\n",
              "  "
            ]
          },
          "metadata": {},
          "execution_count": 16
        }
      ]
    },
    {
      "cell_type": "code",
      "source": [
        "df1.plot()"
      ],
      "metadata": {
        "id": "d-eFfA1N6mZP",
        "outputId": "d72a57de-a8ef-46d5-f9b4-40c4d822b54e",
        "colab": {
          "base_uri": "https://localhost:8080/",
          "height": 167
        }
      },
      "execution_count": 17,
      "outputs": [
        {
          "output_type": "execute_result",
          "data": {
            "text/plain": [
              "<matplotlib.axes._subplots.AxesSubplot at 0x7f772d2edb50>"
            ]
          },
          "metadata": {},
          "execution_count": 17
        },
        {
          "output_type": "display_data",
          "data": {
            "text/plain": [
              "<Figure size 432x288 with 1 Axes>"
            ],
            "image/png": "[encoded data removed]"
          },
          "metadata": {
            "needs_background": "light"
          }
        }
      ]
    },
    {
      "cell_type": "code",
      "source": [
        "nybb = gp.datasets.get_path('nybb')\n",
        "df2 = gp.read_file(nybb)\n",
        "df2"
      ],
      "metadata": {
        "id": "7-5hZY4D6pEt",
        "outputId": "51e00c69-f141-49d9-b533-66baded9d9f3",
        "colab": {
          "base_uri": "https://localhost:8080/",
          "height": 206
        }
      },
      "execution_count": 18,
      "outputs": [
        {
          "output_type": "execute_result",
          "data": {
            "text/plain": [
              "   BoroCode       BoroName     Shape_Leng    Shape_Area  \\\n",
              "0         5  Staten Island  330470.010332  1.623820e+09   \n",
              "1         4         Queens  896344.047763  3.045213e+09   \n",
              "2         3       Brooklyn  741080.523166  1.937479e+09   \n",
              "3         1      Manhattan  359299.096471  6.364715e+08   \n",
              "4         2          Bronx  464392.991824  1.186925e+09   \n",
              "\n",
              "                                            geometry  \n",
              "0  MULTIPOLYGON (((970217.022 145643.332, 970227....  \n",
              "1  MULTIPOLYGON (((1029606.077 156073.814, 102957...  \n",
              "2  MULTIPOLYGON (((1021176.479 151374.797, 102100...  \n",
              "3  MULTIPOLYGON (((981219.056 188655.316, 980940....  \n",
              "4  MULTIPOLYGON (((1012821.806 229228.265, 101278...  "
            ],
            "text/html": [
              "\n",
              "  <div id=\"df-d0692a63-19e0-4946-8a6b-b50f4abd4a29\">\n",
              "    <div class=\"colab-df-container\">\n",
              "      <div>\n",
              "<style scoped>\n",
              "    .dataframe tbody tr th:only-of-type {\n",
              "        vertical-align: middle;\n",
              "    }\n",
              "\n",
              "    .dataframe tbody tr th {\n",
              "        vertical-align: top;\n",
              "    }\n",
              "\n",
              "    .dataframe thead th {\n",
              "        text-align: right;\n",
              "    }\n",
              "</style>\n",
              "<table border=\"1\" class=\"dataframe\">\n",
              "  <thead>\n",
              "    <tr style=\"text-align: right;\">\n",
              "      <th></th>\n",
              "      <th>BoroCode</th>\n",
              "      <th>BoroName</th>\n",
              "      <th>Shape_Leng</th>\n",
              "      <th>Shape_Area</th>\n",
              "      <th>geometry</th>\n",
              "    </tr>\n",
              "  </thead>\n",
              "  <tbody>\n",
              "    <tr>\n",
              "      <th>0</th>\n",
              "      <td>5</td>\n",
              "      <td>Staten Island</td>\n",
              "      <td>330470.010332</td>\n",
              "      <td>1.623820e+09</td>\n",
              "      <td>MULTIPOLYGON (((970217.022 145643.332, 970227....</td>\n",
              "    </tr>\n",
              "    <tr>\n",
              "      <th>1</th>\n",
              "      <td>4</td>\n",
              "      <td>Queens</td>\n",
              "      <td>896344.047763</td>\n",
              "      <td>3.045213e+09</td>\n",
              "      <td>MULTIPOLYGON (((1029606.077 156073.814, 102957...</td>\n",
              "    </tr>\n",
              "    <tr>\n",
              "      <th>2</th>\n",
              "      <td>3</td>\n",
              "      <td>Brooklyn</td>\n",
              "      <td>741080.523166</td>\n",
              "      <td>1.937479e+09</td>\n",
              "      <td>MULTIPOLYGON (((1021176.479 151374.797, 102100...</td>\n",
              "    </tr>\n",
              "    <tr>\n",
              "      <th>3</th>\n",
              "      <td>1</td>\n",
              "      <td>Manhattan</td>\n",
              "      <td>359299.096471</td>\n",
              "      <td>6.364715e+08</td>\n",
              "      <td>MULTIPOLYGON (((981219.056 188655.316, 980940....</td>\n",
              "    </tr>\n",
              "    <tr>\n",
              "      <th>4</th>\n",
              "      <td>2</td>\n",
              "      <td>Bronx</td>\n",
              "      <td>464392.991824</td>\n",
              "      <td>1.186925e+09</td>\n",
              "      <td>MULTIPOLYGON (((1012821.806 229228.265, 101278...</td>\n",
              "    </tr>\n",
              "  </tbody>\n",
              "</table>\n",
              "</div>\n",
              "      <button class=\"colab-df-convert\" onclick=\"convertToInteractive('df-d0692a63-19e0-4946-8a6b-b50f4abd4a29')\"\n",
              "              title=\"Convert this dataframe to an interactive table.\"\n",
              "              style=\"display:none;\">\n",
              "        \n",
              "  <svg xmlns=\"http://www.w3.org/2000/svg\" height=\"24px\"viewBox=\"0 0 24 24\"\n",
              "       width=\"24px\">\n",
              "    <path d=\"M0 0h24v24H0V0z\" fill=\"none\"/>\n",
              "    <path d=\"M18.56 5.44l.94 2.06.94-2.06 2.06-.94-2.06-.94-.94-2.06-.94 2.06-2.06.94zm-11 1L8.5 8.5l.94-2.06 2.06-.94-2.06-.94L8.5 2.5l-.94 2.06-2.06.94zm10 10l.94 2.06.94-2.06 2.06-.94-2.06-.94-.94-2.06-.94 2.06-2.06.94z\"/><path d=\"M17.41 7.96l-1.37-1.37c-.4-.4-.92-.59-1.43-.59-.52 0-1.04.2-1.43.59L10.3 9.45l-7.72 7.72c-.78.78-.78 2.05 0 2.83L4 21.41c.39.39.9.59 1.41.59.51 0 1.02-.2 1.41-.59l7.78-7.78 2.81-2.81c.8-.78.8-2.07 0-2.86zM5.41 20L4 18.59l7.72-7.72 1.47 1.35L5.41 20z\"/>\n",
              "  </svg>\n",
              "      </button>\n",
              "      \n",
              "  <style>\n",
              "    .colab-df-container {\n",
              "      display:flex;\n",
              "      flex-wrap:wrap;\n",
              "      gap: 12px;\n",
              "    }\n",
              "\n",
              "    .colab-df-convert {\n",
              "      background-color: #E8F0FE;\n",
              "      border: none;\n",
              "      border-radius: 50%;\n",
              "      cursor: pointer;\n",
              "      display: none;\n",
              "      fill: #1967D2;\n",
              "      height: 32px;\n",
              "      padding: 0 0 0 0;\n",
              "      width: 32px;\n",
              "    }\n",
              "\n",
              "    .colab-df-convert:hover {\n",
              "      background-color: #E2EBFA;\n",
              "      box-shadow: 0px 1px 2px rgba(60, 64, 67, 0.3), 0px 1px 3px 1px rgba(60, 64, 67, 0.15);\n",
              "      fill: #174EA6;\n",
              "    }\n",
              "\n",
              "    [theme=dark] .colab-df-convert {\n",
              "      background-color: #3B4455;\n",
              "      fill: #D2E3FC;\n",
              "    }\n",
              "\n",
              "    [theme=dark] .colab-df-convert:hover {\n",
              "      background-color: #434B5C;\n",
              "      box-shadow: 0px 1px 3px 1px rgba(0, 0, 0, 0.15);\n",
              "      filter: drop-shadow(0px 1px 2px rgba(0, 0, 0, 0.3));\n",
              "      fill: #FFFFFF;\n",
              "    }\n",
              "  </style>\n",
              "\n",
              "      <script>\n",
              "        const buttonEl =\n",
              "          document.querySelector('#df-d0692a63-19e0-4946-8a6b-b50f4abd4a29 button.colab-df-convert');\n",
              "        buttonEl.style.display =\n",
              "          google.colab.kernel.accessAllowed ? 'block' : 'none';\n",
              "\n",
              "        async function convertToInteractive(key) {\n",
              "          const element = document.querySelector('#df-d0692a63-19e0-4946-8a6b-b50f4abd4a29');\n",
              "          const dataTable =\n",
              "            await google.colab.kernel.invokeFunction('convertToInteractive',\n",
              "                                                     [key], {});\n",
              "          if (!dataTable) return;\n",
              "\n",
              "          const docLinkHtml = 'Like what you see? Visit the ' +\n",
              "            '<a target=\"_blank\" href=https://colab.research.google.com/notebooks/data_table.ipynb>data table notebook</a>'\n",
              "            + ' to learn more about interactive tables.';\n",
              "          element.innerHTML = '';\n",
              "          dataTable['output_type'] = 'display_data';\n",
              "          await google.colab.output.renderOutput(dataTable, element);\n",
              "          const docLink = document.createElement('div');\n",
              "          docLink.innerHTML = docLinkHtml;\n",
              "          element.appendChild(docLink);\n",
              "        }\n",
              "      </script>\n",
              "    </div>\n",
              "  </div>\n",
              "  "
            ]
          },
          "metadata": {},
          "execution_count": 18
        }
      ]
    },
    {
      "cell_type": "code",
      "source": [
        "df2.plot()"
      ],
      "metadata": {
        "id": "ZwOy-p1F6yrx",
        "outputId": "437c3528-3eeb-497a-d979-46a3aba7ae79",
        "colab": {
          "base_uri": "https://localhost:8080/",
          "height": 299
        }
      },
      "execution_count": 19,
      "outputs": [
        {
          "output_type": "execute_result",
          "data": {
            "text/plain": [
              "<matplotlib.axes._subplots.AxesSubplot at 0x7f772d136c10>"
            ]
          },
          "metadata": {},
          "execution_count": 19
        },
        {
          "output_type": "display_data",
          "data": {
            "text/plain": [
              "<Figure size 432x288 with 1 Axes>"
            ],
            "image/png": "[encoded data removed]"
          },
          "metadata": {
            "needs_background": "light"
          }
        }
      ]
    }
  ]
}
{
  "nbformat": 4,
  "nbformat_minor": 0,
  "metadata": {
    "colab": {
      "provenance": [],
      "authorship_tag": "ABX9TyOOmlflk+A5y04g+BsG9ugO",
      "include_colab_link": true
    },
    "kernelspec": {
      "name": "python3",
      "display_name": "Python 3"
    },
    "language_info": {
      "name": "python"
    }
  },
  "cells": [
    {
      "cell_type": "markdown",
      "metadata": {
        "id": "view-in-github",
        "colab_type": "text"
      },
      "source": [
        "<a href=\"https://colab.research.google.com/github/khatriprajwol/Data-Set/blob/main/Numeric_data_types_basic.ipynb\" target=\"_parent\"><img src=\"https://colab.research.google.com/assets/colab-badge.svg\" alt=\"Open In Colab\"/></a>"
      ]
    },
    {
      "cell_type": "markdown",
      "source": [
        "#**Numeric Data Types**"
      ],
      "metadata": {
        "id": "s989tOxDy4rs"
      }
    },
    {
      "cell_type": "markdown",
      "source": [
        "Like other programming language, In a python we do not need to specify if our data is integer or float or string. For example. "
      ],
      "metadata": {
        "id": "-mPidaimzAzy"
      }
    },
    {
      "cell_type": "code",
      "execution_count": 123,
      "metadata": {
        "colab": {
          "base_uri": "https://localhost:8080/"
        },
        "id": "xCnefAJ1y33T",
        "outputId": "2d75b853-1cc2-4dbe-f34c-779f91217784"
      },
      "outputs": [
        {
          "output_type": "stream",
          "name": "stdout",
          "text": [
            "<class 'int'>\n"
          ]
        }
      ],
      "source": [
        "x = 9\n",
        "print(type(x))"
      ]
    },
    {
      "cell_type": "markdown",
      "source": [
        "In the above output you can see it gives me class int. That means my data type is integer. "
      ],
      "metadata": {
        "id": "CCwMaWKJzQrF"
      }
    },
    {
      "cell_type": "code",
      "source": [
        "y = 9.2\n",
        "print(type(y))"
      ],
      "metadata": {
        "colab": {
          "base_uri": "https://localhost:8080/"
        },
        "id": "CZy7JtLCzZ1M",
        "outputId": "fdfe7198-4313-49ca-de8e-0d29e1de4679"
      },
      "execution_count": 124,
      "outputs": [
        {
          "output_type": "stream",
          "name": "stdout",
          "text": [
            "<class 'float'>\n"
          ]
        }
      ]
    },
    {
      "cell_type": "markdown",
      "source": [
        "Here without me mentioning it tells me that 9.2 is float. Also, there are some basic arithmetic we can do in a python Some of the examples are shown below. "
      ],
      "metadata": {
        "id": "yYbQFRNYzenM"
      }
    },
    {
      "cell_type": "markdown",
      "source": [
        "##Addition"
      ],
      "metadata": {
        "id": "77kdqKbIzwhZ"
      }
    },
    {
      "cell_type": "code",
      "source": [
        "print(3 +4)"
      ],
      "metadata": {
        "colab": {
          "base_uri": "https://localhost:8080/"
        },
        "id": "TdZi2f-4zyWQ",
        "outputId": "d52eb058-bd07-433c-a940-1609d9aee411"
      },
      "execution_count": 125,
      "outputs": [
        {
          "output_type": "stream",
          "name": "stdout",
          "text": [
            "7\n"
          ]
        }
      ]
    },
    {
      "cell_type": "markdown",
      "source": [
        "##Subtraction"
      ],
      "metadata": {
        "id": "GvgO9RyKz2pE"
      }
    },
    {
      "cell_type": "code",
      "source": [
        "print(3-4)"
      ],
      "metadata": {
        "colab": {
          "base_uri": "https://localhost:8080/"
        },
        "id": "xvm4ScKFz-BD",
        "outputId": "28eda6a1-3b2b-4563-cab3-e8b4e0fdbd5b"
      },
      "execution_count": 126,
      "outputs": [
        {
          "output_type": "stream",
          "name": "stdout",
          "text": [
            "-1\n"
          ]
        }
      ]
    },
    {
      "cell_type": "markdown",
      "source": [
        "##Multiplication "
      ],
      "metadata": {
        "id": "GVixOkYC0CtW"
      }
    },
    {
      "cell_type": "code",
      "source": [
        "print(3*4)"
      ],
      "metadata": {
        "colab": {
          "base_uri": "https://localhost:8080/"
        },
        "id": "FTEKB9Yg0Fg0",
        "outputId": "d60ddf3c-5d13-49ec-c567-30140b3eab6b"
      },
      "execution_count": 127,
      "outputs": [
        {
          "output_type": "stream",
          "name": "stdout",
          "text": [
            "12\n"
          ]
        }
      ]
    },
    {
      "cell_type": "markdown",
      "source": [
        "##Division"
      ],
      "metadata": {
        "id": "-p1EJYfR0Hpk"
      }
    },
    {
      "cell_type": "code",
      "source": [
        "print(4/3)\n",
        "print(3/4)"
      ],
      "metadata": {
        "colab": {
          "base_uri": "https://localhost:8080/"
        },
        "id": "-eVTCDl90KPl",
        "outputId": "baff1236-f531-4355-d15d-a186967f24a4"
      },
      "execution_count": 128,
      "outputs": [
        {
          "output_type": "stream",
          "name": "stdout",
          "text": [
            "1.3333333333333333\n",
            "0.75\n"
          ]
        }
      ]
    },
    {
      "cell_type": "markdown",
      "source": [
        "##Floor Division \n",
        "Does not return decimals."
      ],
      "metadata": {
        "id": "v1Z_7twm0SPt"
      }
    },
    {
      "cell_type": "code",
      "source": [
        "print(4//3) #floor division\n",
        "print(4/3) #regular division"
      ],
      "metadata": {
        "colab": {
          "base_uri": "https://localhost:8080/"
        },
        "id": "pRIo1UZH0RxD",
        "outputId": "ac7a25b3-65e6-4f8d-bd25-9c3ef4b7d0bc"
      },
      "execution_count": 129,
      "outputs": [
        {
          "output_type": "stream",
          "name": "stdout",
          "text": [
            "1\n",
            "1.3333333333333333\n"
          ]
        }
      ]
    },
    {
      "cell_type": "markdown",
      "source": [
        "Did you see the difference?"
      ],
      "metadata": {
        "id": "pmusMqCD0jPs"
      }
    },
    {
      "cell_type": "markdown",
      "source": [
        "##Exponent\n"
      ],
      "metadata": {
        "id": "FrkohfTa0lz0"
      }
    },
    {
      "cell_type": "code",
      "source": [
        "print(9 ** 2)"
      ],
      "metadata": {
        "colab": {
          "base_uri": "https://localhost:8080/"
        },
        "id": "71yvKICq045N",
        "outputId": "2b2e45b4-c100-4996-9765-0fae3280e2dc"
      },
      "execution_count": 130,
      "outputs": [
        {
          "output_type": "stream",
          "name": "stdout",
          "text": [
            "81\n"
          ]
        }
      ]
    },
    {
      "cell_type": "markdown",
      "source": [
        "It is raised to the power of 2. It is similar to 9^2. "
      ],
      "metadata": {
        "id": "uBdPwTDd1CDl"
      }
    },
    {
      "cell_type": "markdown",
      "source": [
        "##Modulus\n",
        "\n",
        "It gives us remainder. \n",
        "\n",
        "##Where can we use it?\n",
        "We can use it to find if our number is odd or even. "
      ],
      "metadata": {
        "id": "3HvZGlnD1POS"
      }
    },
    {
      "cell_type": "code",
      "source": [
        "print(4%3)"
      ],
      "metadata": {
        "colab": {
          "base_uri": "https://localhost:8080/"
        },
        "id": "Fdd04UTr1RTY",
        "outputId": "a4749b11-09c8-4e69-f46c-c22a3225888a"
      },
      "execution_count": 131,
      "outputs": [
        {
          "output_type": "stream",
          "name": "stdout",
          "text": [
            "1\n"
          ]
        }
      ]
    },
    {
      "cell_type": "code",
      "source": [
        "print(4%2)"
      ],
      "metadata": {
        "colab": {
          "base_uri": "https://localhost:8080/"
        },
        "id": "zUQD-KGr1hkX",
        "outputId": "bdf61728-959b-4f60-dd8a-5fc7498b6fd8"
      },
      "execution_count": 132,
      "outputs": [
        {
          "output_type": "stream",
          "name": "stdout",
          "text": [
            "0\n"
          ]
        }
      ]
    },
    {
      "cell_type": "code",
      "source": [
        "print(4%4)"
      ],
      "metadata": {
        "colab": {
          "base_uri": "https://localhost:8080/"
        },
        "id": "NQWjI6-31l0q",
        "outputId": "e16daaf1-41a7-4fe6-ab7e-ecaf0f9c6512"
      },
      "execution_count": 133,
      "outputs": [
        {
          "output_type": "stream",
          "name": "stdout",
          "text": [
            "0\n"
          ]
        }
      ]
    },
    {
      "cell_type": "code",
      "source": [
        "print(5%4)"
      ],
      "metadata": {
        "colab": {
          "base_uri": "https://localhost:8080/"
        },
        "id": "8CkexdDh1pdg",
        "outputId": "7f7726f4-5a35-44d6-c822-e4e0f7bd1180"
      },
      "execution_count": 134,
      "outputs": [
        {
          "output_type": "stream",
          "name": "stdout",
          "text": [
            "1\n"
          ]
        }
      ]
    },
    {
      "cell_type": "code",
      "source": [],
      "metadata": {
        "id": "yZ3Ovtts1_ip"
      },
      "execution_count": 134,
      "outputs": []
    },
    {
      "cell_type": "markdown",
      "source": [
        "In the above examples you can see a trend that if one number is odd then it returns 1. And if both of my numbers are even then it returns 0. Except for the expression like this: `**print(4%1)**`"
      ],
      "metadata": {
        "id": "LXbMwht61sYA"
      }
    },
    {
      "cell_type": "markdown",
      "source": [
        "##Incriminating Variable"
      ],
      "metadata": {
        "id": "rstg6p8w2ZZP"
      }
    },
    {
      "cell_type": "code",
      "source": [
        "x = 2\n",
        "x = x+2\n",
        "print(x)\n",
        "\n"
      ],
      "metadata": {
        "colab": {
          "base_uri": "https://localhost:8080/"
        },
        "id": "wQE-Erdh2f8E",
        "outputId": "32fe9089-8901-4f27-db38-8af8b95597cd"
      },
      "execution_count": 135,
      "outputs": [
        {
          "output_type": "stream",
          "name": "stdout",
          "text": [
            "4\n"
          ]
        }
      ]
    },
    {
      "cell_type": "markdown",
      "source": [
        "##Different process but same result"
      ],
      "metadata": {
        "id": "BuT6kmph2_8N"
      }
    },
    {
      "cell_type": "code",
      "source": [
        "\n",
        "x = 2\n",
        "x+=2\n",
        "print(x)"
      ],
      "metadata": {
        "colab": {
          "base_uri": "https://localhost:8080/"
        },
        "id": "g6HQ1V592qfZ",
        "outputId": "f93c9d72-3bd9-4add-8cfb-ec4bacc39376"
      },
      "execution_count": 136,
      "outputs": [
        {
          "output_type": "stream",
          "name": "stdout",
          "text": [
            "4\n"
          ]
        }
      ]
    },
    {
      "cell_type": "code",
      "source": [
        "x = 2\n",
        "x*=2\n",
        "print(x)"
      ],
      "metadata": {
        "colab": {
          "base_uri": "https://localhost:8080/"
        },
        "id": "nV7qPMlc3Jq1",
        "outputId": "651c8d98-5cb0-439c-d0d5-93df2687be92"
      },
      "execution_count": 137,
      "outputs": [
        {
          "output_type": "stream",
          "name": "stdout",
          "text": [
            "4\n"
          ]
        }
      ]
    },
    {
      "cell_type": "markdown",
      "source": [
        "##Absolute Value"
      ],
      "metadata": {
        "id": "Rv6csCRq3bNN"
      }
    },
    {
      "cell_type": "code",
      "source": [
        "print(abs(-4))"
      ],
      "metadata": {
        "colab": {
          "base_uri": "https://localhost:8080/"
        },
        "id": "GP8UB9hD3aQv",
        "outputId": "5f950256-e4eb-4ff9-bf34-3fa059a7cc15"
      },
      "execution_count": 138,
      "outputs": [
        {
          "output_type": "stream",
          "name": "stdout",
          "text": [
            "4\n"
          ]
        }
      ]
    },
    {
      "cell_type": "markdown",
      "source": [
        "##Rounding up the number\n",
        "It rounds up the decimal to nearest value."
      ],
      "metadata": {
        "id": "kfJBkq-L3lZq"
      }
    },
    {
      "cell_type": "code",
      "source": [
        "print(round(10.34))"
      ],
      "metadata": {
        "colab": {
          "base_uri": "https://localhost:8080/"
        },
        "id": "V0Exwzhn3krv",
        "outputId": "a9c76c41-dce7-42b9-bcb2-8af9924921e9"
      },
      "execution_count": 139,
      "outputs": [
        {
          "output_type": "stream",
          "name": "stdout",
          "text": [
            "10\n"
          ]
        }
      ]
    },
    {
      "cell_type": "code",
      "source": [
        "print(round(10.75))"
      ],
      "metadata": {
        "colab": {
          "base_uri": "https://localhost:8080/"
        },
        "id": "y27Fq4E75rK7",
        "outputId": "71fad8a2-3be1-4827-e022-f69e06755338"
      },
      "execution_count": 140,
      "outputs": [
        {
          "output_type": "stream",
          "name": "stdout",
          "text": [
            "11\n"
          ]
        }
      ]
    },
    {
      "cell_type": "markdown",
      "source": [
        "##Notice the difference in above two examples?"
      ],
      "metadata": {
        "id": "tCPZdGWB5wKh"
      }
    },
    {
      "cell_type": "markdown",
      "source": [
        "##For one decimal place"
      ],
      "metadata": {
        "id": "KhpR3XcO6GYx"
      }
    },
    {
      "cell_type": "code",
      "source": [
        "print(round(10.75,1)) # for 1 decimal place"
      ],
      "metadata": {
        "colab": {
          "base_uri": "https://localhost:8080/"
        },
        "id": "EYvlTS4A6BF-",
        "outputId": "7feb8af7-1393-409c-bd15-5b873d32fbae"
      },
      "execution_count": 141,
      "outputs": [
        {
          "output_type": "stream",
          "name": "stdout",
          "text": [
            "10.8\n"
          ]
        }
      ]
    },
    {
      "cell_type": "markdown",
      "source": [
        "##For two decimal place"
      ],
      "metadata": {
        "id": "flHc3_SA6TtW"
      }
    },
    {
      "cell_type": "code",
      "source": [
        "print(round(10.75,2)) # for 1 decimal place"
      ],
      "metadata": {
        "colab": {
          "base_uri": "https://localhost:8080/"
        },
        "id": "KRv5HbEA6S6N",
        "outputId": "c0141963-3b85-4883-c434-649d901b0e46"
      },
      "execution_count": 142,
      "outputs": [
        {
          "output_type": "stream",
          "name": "stdout",
          "text": [
            "10.75\n"
          ]
        }
      ]
    },
    {
      "cell_type": "markdown",
      "source": [
        "#**Comparisons**"
      ],
      "metadata": {
        "id": "VNHDq4Ve6jRk"
      }
    },
    {
      "cell_type": "code",
      "source": [
        "x = 2\n",
        "y = 3"
      ],
      "metadata": {
        "id": "8Kq0UYDe7EhZ"
      },
      "execution_count": 143,
      "outputs": []
    },
    {
      "cell_type": "markdown",
      "source": [
        "##Equal (x == y)"
      ],
      "metadata": {
        "id": "8XkHId6W6lg5"
      }
    },
    {
      "cell_type": "code",
      "source": [
        "print( x == y)"
      ],
      "metadata": {
        "colab": {
          "base_uri": "https://localhost:8080/"
        },
        "id": "FKZ6mulU7UjU",
        "outputId": "c334e7aa-61c2-499c-de7b-e3ffa7990cd3"
      },
      "execution_count": 144,
      "outputs": [
        {
          "output_type": "stream",
          "name": "stdout",
          "text": [
            "False\n"
          ]
        }
      ]
    },
    {
      "cell_type": "markdown",
      "source": [
        "It returns False because x and y are not equal. "
      ],
      "metadata": {
        "id": "ohLF1pw87pl8"
      }
    },
    {
      "cell_type": "markdown",
      "source": [
        "##Not Equal (x != y)"
      ],
      "metadata": {
        "id": "eGfi-N7v7c12"
      }
    },
    {
      "cell_type": "code",
      "source": [
        "print(x != y)"
      ],
      "metadata": {
        "colab": {
          "base_uri": "https://localhost:8080/"
        },
        "id": "nHMz8kqO7gBp",
        "outputId": "1f9bea9a-0f81-4871-b8a2-4e58ba93101b"
      },
      "execution_count": 145,
      "outputs": [
        {
          "output_type": "stream",
          "name": "stdout",
          "text": [
            "True\n"
          ]
        }
      ]
    },
    {
      "cell_type": "markdown",
      "source": [
        "It returns True because x and y are not equal. "
      ],
      "metadata": {
        "id": "yzNUvUyi7kfM"
      }
    },
    {
      "cell_type": "markdown",
      "source": [
        "##Greater Than (x > y)"
      ],
      "metadata": {
        "id": "5Qkk4JOS7tG8"
      }
    },
    {
      "cell_type": "code",
      "source": [
        "print(x>y)"
      ],
      "metadata": {
        "colab": {
          "base_uri": "https://localhost:8080/"
        },
        "id": "QH3Chngj7z0Y",
        "outputId": "09dc3b2c-9196-4744-dc6b-e620a785467a"
      },
      "execution_count": 146,
      "outputs": [
        {
          "output_type": "stream",
          "name": "stdout",
          "text": [
            "False\n"
          ]
        }
      ]
    },
    {
      "cell_type": "markdown",
      "source": [
        "##Less Than (x < y)"
      ],
      "metadata": {
        "id": "QodXthNt74bn"
      }
    },
    {
      "cell_type": "code",
      "source": [
        "print(x<y)"
      ],
      "metadata": {
        "colab": {
          "base_uri": "https://localhost:8080/"
        },
        "id": "RYXRD7Zv78ow",
        "outputId": "1fe8ef0d-8079-4590-e739-f0cc773420be"
      },
      "execution_count": 147,
      "outputs": [
        {
          "output_type": "stream",
          "name": "stdout",
          "text": [
            "True\n"
          ]
        }
      ]
    },
    {
      "cell_type": "markdown",
      "source": [
        "##Greater Than or Equal (x >= y)"
      ],
      "metadata": {
        "id": "V7Podsy_7_uP"
      }
    },
    {
      "cell_type": "code",
      "source": [
        "print(x >= y)"
      ],
      "metadata": {
        "colab": {
          "base_uri": "https://localhost:8080/"
        },
        "id": "Rxyuu47E8Kuz",
        "outputId": "53f01b35-63cd-4cd9-de04-51a2724f604e"
      },
      "execution_count": 148,
      "outputs": [
        {
          "output_type": "stream",
          "name": "stdout",
          "text": [
            "False\n"
          ]
        }
      ]
    },
    {
      "cell_type": "markdown",
      "source": [
        "##Less Than or Equal (x <= y)"
      ],
      "metadata": {
        "id": "CKicdIk58HMK"
      }
    },
    {
      "cell_type": "code",
      "source": [
        "print(x <= y)"
      ],
      "metadata": {
        "colab": {
          "base_uri": "https://localhost:8080/"
        },
        "id": "G8TMR0j_8OXg",
        "outputId": "cadd8655-c0e1-4e04-c44c-77816165e378"
      },
      "execution_count": 149,
      "outputs": [
        {
          "output_type": "stream",
          "name": "stdout",
          "text": [
            "True\n"
          ]
        }
      ]
    },
    {
      "cell_type": "markdown",
      "source": [
        "#Variable looks like number"
      ],
      "metadata": {
        "id": "Qbm_Ps8l8Yn4"
      }
    },
    {
      "cell_type": "markdown",
      "source": [],
      "metadata": {
        "id": "nBL-RYj78bdp"
      }
    },
    {
      "cell_type": "code",
      "source": [
        "x = '200'\n",
        "y = '300'"
      ],
      "metadata": {
        "id": "9N7CAMqt8eQV"
      },
      "execution_count": 150,
      "outputs": []
    },
    {
      "cell_type": "code",
      "source": [
        "print( x + y)"
      ],
      "metadata": {
        "colab": {
          "base_uri": "https://localhost:8080/"
        },
        "id": "5MLPrFGP8kRc",
        "outputId": "51a54f74-4c6f-438d-e772-784f0f90cfdb"
      },
      "execution_count": 151,
      "outputs": [
        {
          "output_type": "stream",
          "name": "stdout",
          "text": [
            "200300\n"
          ]
        }
      ]
    },
    {
      "cell_type": "markdown",
      "source": [
        "Did you notice why it did not print 500? It is because I explicitly set it as a *string* not a *number*.  "
      ],
      "metadata": {
        "id": "tmfLBygU8mqG"
      }
    },
    {
      "cell_type": "markdown",
      "source": [
        "##How to solve this issue?\n",
        "We can use casting. Here is how we can do it. "
      ],
      "metadata": {
        "id": "GbforMMn9GIC"
      }
    },
    {
      "cell_type": "code",
      "source": [
        "x = '200'\n",
        "y = '300'\n",
        "\n",
        "x = int(x) # I casted my string to integer. \n",
        "y = int(y) # I casted my string to integer. \n",
        "\n",
        "print(x + y)"
      ],
      "metadata": {
        "colab": {
          "base_uri": "https://localhost:8080/"
        },
        "id": "SSImsmex8_0I",
        "outputId": "bacbf665-66df-4268-b603-b5d10435db5a"
      },
      "execution_count": 152,
      "outputs": [
        {
          "output_type": "stream",
          "name": "stdout",
          "text": [
            "500\n"
          ]
        }
      ]
    },
    {
      "cell_type": "markdown",
      "source": [
        "#What if my value had commas?"
      ],
      "metadata": {
        "id": "6aR6hQRp9-rz"
      }
    },
    {
      "cell_type": "code",
      "source": [
        "x = '2,000'\n",
        "y = '3,000'\n",
        "\n",
        "x = int(x) # I casted my string to integer. \n",
        "y = int(y) # I casted my string to integer. \n",
        "\n",
        "print(x + y)"
      ],
      "metadata": {
        "colab": {
          "base_uri": "https://localhost:8080/",
          "height": 235
        },
        "id": "uXzXExjO9u9F",
        "outputId": "fc84c736-fd8e-4f93-8ea3-569b1fb0559a"
      },
      "execution_count": 153,
      "outputs": [
        {
          "output_type": "error",
          "ename": "ValueError",
          "evalue": "ignored",
          "traceback": [
            "\u001b[0;31m---------------------------------------------------------------------------\u001b[0m",
            "\u001b[0;31mValueError\u001b[0m                                Traceback (most recent call last)",
            "\u001b[0;32m<ipython-input-153-b721e6f212db>\u001b[0m in \u001b[0;36m<module>\u001b[0;34m\u001b[0m\n\u001b[1;32m      2\u001b[0m \u001b[0my\u001b[0m \u001b[0;34m=\u001b[0m \u001b[0;34m'3,000'\u001b[0m\u001b[0;34m\u001b[0m\u001b[0;34m\u001b[0m\u001b[0m\n\u001b[1;32m      3\u001b[0m \u001b[0;34m\u001b[0m\u001b[0m\n\u001b[0;32m----> 4\u001b[0;31m \u001b[0mx\u001b[0m \u001b[0;34m=\u001b[0m \u001b[0mint\u001b[0m\u001b[0;34m(\u001b[0m\u001b[0mx\u001b[0m\u001b[0;34m)\u001b[0m \u001b[0;31m# I casted my string to integer.\u001b[0m\u001b[0;34m\u001b[0m\u001b[0;34m\u001b[0m\u001b[0m\n\u001b[0m\u001b[1;32m      5\u001b[0m \u001b[0my\u001b[0m \u001b[0;34m=\u001b[0m \u001b[0mint\u001b[0m\u001b[0;34m(\u001b[0m\u001b[0my\u001b[0m\u001b[0;34m)\u001b[0m \u001b[0;31m# I casted my string to integer.\u001b[0m\u001b[0;34m\u001b[0m\u001b[0;34m\u001b[0m\u001b[0m\n\u001b[1;32m      6\u001b[0m \u001b[0;34m\u001b[0m\u001b[0m\n",
            "\u001b[0;31mValueError\u001b[0m: invalid literal for int() with base 10: '2,000'"
          ]
        }
      ]
    },
    {
      "cell_type": "markdown",
      "source": [
        "It returned error message saying, \"invalid literal for int() with base 10: '2,000'\". The same method did not work. That is why we need to use something called data cleaning. Here is an example how we do it. "
      ],
      "metadata": {
        "id": "bvL9Ka3S-Dey"
      }
    },
    {
      "cell_type": "code",
      "source": [
        "x = '2,000'\n",
        "y = '3,000'\n",
        "\n",
        "x = '2000'\n",
        "y = '3000'\n",
        "\n",
        "x = int(x) # I casted my string to integer. \n",
        "y = int(y) # I casted my string to integer. \n",
        "\n",
        "print(x + y)"
      ],
      "metadata": {
        "colab": {
          "base_uri": "https://localhost:8080/"
        },
        "id": "rzB77NmK-QFG",
        "outputId": "64fffb9d-f4f8-4a85-faef-ace13d9286ad"
      },
      "execution_count": 154,
      "outputs": [
        {
          "output_type": "stream",
          "name": "stdout",
          "text": [
            "5000\n"
          ]
        }
      ]
    },
    {
      "cell_type": "markdown",
      "source": [
        "#What if we have a large data set with similar case? Can we list it as one-by-one like this?\n",
        "Well, the answer is big **NO**.\n",
        "\n",
        "For the string cleaning this is one way of doing it. \n",
        "\n",
        "**https://github.com/khatriprajwol/Data-Set/blob/main/Stringcleaning.ipynb**\n",
        "\n"
      ],
      "metadata": {
        "id": "x-tckPqc-afm"
      }
    }
  ]
}
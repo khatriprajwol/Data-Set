{
  "nbformat": 4,
  "nbformat_minor": 0,
  "metadata": {
    "colab": {
      "provenance": [],
      "authorship_tag": "ABX9TyOOmlflk+A5y04g+BsG9ugO",
      "include_colab_link": true
    },
    "kernelspec": {
      "name": "python3",
      "display_name": "Python 3"
    },
    "language_info": {
      "name": "python"
    }
  },
  "cells": [
    {
      "cell_type": "markdown",
      "metadata": {
        "id": "view-in-github",
        "colab_type": "text"
      },
      "source": [
        "<a href=\"https://colab.research.google.com/github/khatriprajwol/Data-Set/blob/main/Numeric_data_types_basic.ipynb\" target=\"_parent\"><img src=\"https://colab.research.google.com/assets/colab-badge.svg\" alt=\"Open In Colab\"/></a>"
      ]
    },
    {
      "cell_type": "markdown",
      "source": [
        "#**Numeric Data Types**"
      ],
      "metadata": {
        "id": "s989tOxDy4rs"
      }
    },
    {
      "cell_type": "markdown",
      "source": [
        "Like other programming language, In a python we do not need to specify if our data is integer or float or string. For example. "
      ],
      "metadata": {
        "id": "-mPidaimzAzy"
      }
    },
    {
      "cell_type": "code",
      "execution_count": 88,
      "metadata": {
        "colab": {
          "base_uri": "https://localhost:8080/"
        },
        "id": "xCnefAJ1y33T",
        "outputId": "3cdd0e92-d7a9-440f-b6ec-4ced42b72f63"
      },
      "outputs": [
        {
          "output_type": "stream",
          "name": "stdout",
          "text": [
            "<class 'int'>\n"
          ]
        }
      ],
      "source": [
        "x = 9\n",
        "print(type(x))"
      ]
    },
    {
      "cell_type": "markdown",
      "source": [
        "In the above output you can see it gives me class int. That means my data type is integer. "
      ],
      "metadata": {
        "id": "CCwMaWKJzQrF"
      }
    },
    {
      "cell_type": "code",
      "source": [
        "y = 9.2\n",
        "print(type(y))"
      ],
      "metadata": {
        "colab": {
          "base_uri": "https://localhost:8080/"
        },
        "id": "CZy7JtLCzZ1M",
        "outputId": "8e70b0b5-1e27-4b2f-ee2c-cde4bba38b65"
      },
      "execution_count": 89,
      "outputs": [
        {
          "output_type": "stream",
          "name": "stdout",
          "text": [
            "<class 'float'>\n"
          ]
        }
      ]
    },
    {
      "cell_type": "markdown",
      "source": [
        "Here without me mentioning it tells me that 9.2 is float. Also, there are some basic arithmetic we can do in a python Some of the examples are shown below. "
      ],
      "metadata": {
        "id": "yYbQFRNYzenM"
      }
    },
    {
      "cell_type": "markdown",
      "source": [
        "##Addition"
      ],
      "metadata": {
        "id": "77kdqKbIzwhZ"
      }
    },
    {
      "cell_type": "code",
      "source": [
        "print(3 +4)"
      ],
      "metadata": {
        "colab": {
          "base_uri": "https://localhost:8080/"
        },
        "id": "TdZi2f-4zyWQ",
        "outputId": "d27e7da0-3c31-400a-c7de-fec61fa20528"
      },
      "execution_count": 90,
      "outputs": [
        {
          "output_type": "stream",
          "name": "stdout",
          "text": [
            "7\n"
          ]
        }
      ]
    },
    {
      "cell_type": "markdown",
      "source": [
        "##Subtraction"
      ],
      "metadata": {
        "id": "GvgO9RyKz2pE"
      }
    },
    {
      "cell_type": "code",
      "source": [
        "print(3-4)"
      ],
      "metadata": {
        "colab": {
          "base_uri": "https://localhost:8080/"
        },
        "id": "xvm4ScKFz-BD",
        "outputId": "31667aa5-6d88-4f75-9abb-925e6ba75dbe"
      },
      "execution_count": 91,
      "outputs": [
        {
          "output_type": "stream",
          "name": "stdout",
          "text": [
            "-1\n"
          ]
        }
      ]
    },
    {
      "cell_type": "markdown",
      "source": [
        "##Multiplication "
      ],
      "metadata": {
        "id": "GVixOkYC0CtW"
      }
    },
    {
      "cell_type": "code",
      "source": [
        "print(3*4)"
      ],
      "metadata": {
        "colab": {
          "base_uri": "https://localhost:8080/"
        },
        "id": "FTEKB9Yg0Fg0",
        "outputId": "c6ab353e-846e-4eda-f766-be74cc326ef7"
      },
      "execution_count": 92,
      "outputs": [
        {
          "output_type": "stream",
          "name": "stdout",
          "text": [
            "12\n"
          ]
        }
      ]
    },
    {
      "cell_type": "markdown",
      "source": [
        "##Division"
      ],
      "metadata": {
        "id": "-p1EJYfR0Hpk"
      }
    },
    {
      "cell_type": "code",
      "source": [
        "print(4/3)\n",
        "print(3/4)"
      ],
      "metadata": {
        "colab": {
          "base_uri": "https://localhost:8080/"
        },
        "id": "-eVTCDl90KPl",
        "outputId": "d77b3ca2-dda7-4dd9-b063-1a6e6a7a9b89"
      },
      "execution_count": 93,
      "outputs": [
        {
          "output_type": "stream",
          "name": "stdout",
          "text": [
            "1.3333333333333333\n",
            "0.75\n"
          ]
        }
      ]
    },
    {
      "cell_type": "markdown",
      "source": [
        "##Floor Division \n",
        "Does not return decimals."
      ],
      "metadata": {
        "id": "v1Z_7twm0SPt"
      }
    },
    {
      "cell_type": "code",
      "source": [
        "print(4//3) #floor division\n",
        "print(4/3) #regular division"
      ],
      "metadata": {
        "colab": {
          "base_uri": "https://localhost:8080/"
        },
        "id": "pRIo1UZH0RxD",
        "outputId": "857ed1fa-ef2f-4b67-d8fb-3c3d3000a3e9"
      },
      "execution_count": 94,
      "outputs": [
        {
          "output_type": "stream",
          "name": "stdout",
          "text": [
            "1\n",
            "1.3333333333333333\n"
          ]
        }
      ]
    },
    {
      "cell_type": "markdown",
      "source": [
        "Did you see the difference?"
      ],
      "metadata": {
        "id": "pmusMqCD0jPs"
      }
    },
    {
      "cell_type": "markdown",
      "source": [
        "##Exponent\n"
      ],
      "metadata": {
        "id": "FrkohfTa0lz0"
      }
    },
    {
      "cell_type": "code",
      "source": [
        "print(9 ** 2)"
      ],
      "metadata": {
        "colab": {
          "base_uri": "https://localhost:8080/"
        },
        "id": "71yvKICq045N",
        "outputId": "d73579fe-51d9-4a0d-a76d-96edbfd76b2b"
      },
      "execution_count": 95,
      "outputs": [
        {
          "output_type": "stream",
          "name": "stdout",
          "text": [
            "81\n"
          ]
        }
      ]
    },
    {
      "cell_type": "markdown",
      "source": [
        "It is raised to the power of 2. It is similar to 9^2. "
      ],
      "metadata": {
        "id": "uBdPwTDd1CDl"
      }
    },
    {
      "cell_type": "markdown",
      "source": [
        "##Modulus\n",
        "\n",
        "It gives us remainder. \n",
        "\n",
        "##Where can we use it?\n",
        "We can use it to find if our number is odd or even. "
      ],
      "metadata": {
        "id": "3HvZGlnD1POS"
      }
    },
    {
      "cell_type": "code",
      "source": [
        "print(4%3)"
      ],
      "metadata": {
        "colab": {
          "base_uri": "https://localhost:8080/"
        },
        "id": "Fdd04UTr1RTY",
        "outputId": "5277bc1d-3007-470b-b575-886d35b8eb30"
      },
      "execution_count": 96,
      "outputs": [
        {
          "output_type": "stream",
          "name": "stdout",
          "text": [
            "1\n"
          ]
        }
      ]
    },
    {
      "cell_type": "code",
      "source": [
        "print(4%2)"
      ],
      "metadata": {
        "colab": {
          "base_uri": "https://localhost:8080/"
        },
        "id": "zUQD-KGr1hkX",
        "outputId": "25bf7095-22ac-4afb-ce90-1fe6b6d8f466"
      },
      "execution_count": 97,
      "outputs": [
        {
          "output_type": "stream",
          "name": "stdout",
          "text": [
            "0\n"
          ]
        }
      ]
    },
    {
      "cell_type": "code",
      "source": [
        "print(4%4)"
      ],
      "metadata": {
        "colab": {
          "base_uri": "https://localhost:8080/"
        },
        "id": "NQWjI6-31l0q",
        "outputId": "7c4c6cae-c66d-4a72-85cc-1812199e5dff"
      },
      "execution_count": 98,
      "outputs": [
        {
          "output_type": "stream",
          "name": "stdout",
          "text": [
            "0\n"
          ]
        }
      ]
    },
    {
      "cell_type": "code",
      "source": [
        "print(5%4)"
      ],
      "metadata": {
        "colab": {
          "base_uri": "https://localhost:8080/"
        },
        "id": "8CkexdDh1pdg",
        "outputId": "f8720970-a0db-429e-e279-c818c1992926"
      },
      "execution_count": 99,
      "outputs": [
        {
          "output_type": "stream",
          "name": "stdout",
          "text": [
            "1\n"
          ]
        }
      ]
    },
    {
      "cell_type": "code",
      "source": [],
      "metadata": {
        "id": "yZ3Ovtts1_ip"
      },
      "execution_count": 99,
      "outputs": []
    },
    {
      "cell_type": "markdown",
      "source": [
        "In the above examples you can see a trend that if one number is odd then it returns 1. And if both of my numbers are even then it returns 0. Except for the expression like this: `**print(4%1)**`"
      ],
      "metadata": {
        "id": "LXbMwht61sYA"
      }
    },
    {
      "cell_type": "markdown",
      "source": [
        "##Incriminating Variable"
      ],
      "metadata": {
        "id": "rstg6p8w2ZZP"
      }
    },
    {
      "cell_type": "code",
      "source": [
        "x = 2\n",
        "x = x+2\n",
        "print(x)\n",
        "\n"
      ],
      "metadata": {
        "colab": {
          "base_uri": "https://localhost:8080/"
        },
        "id": "wQE-Erdh2f8E",
        "outputId": "ddca6e46-9150-40f0-f5fd-1cb4c7563021"
      },
      "execution_count": 100,
      "outputs": [
        {
          "output_type": "stream",
          "name": "stdout",
          "text": [
            "4\n"
          ]
        }
      ]
    },
    {
      "cell_type": "markdown",
      "source": [
        "##Different process but same result"
      ],
      "metadata": {
        "id": "BuT6kmph2_8N"
      }
    },
    {
      "cell_type": "code",
      "source": [
        "\n",
        "x = 2\n",
        "x+=2\n",
        "print(x)"
      ],
      "metadata": {
        "colab": {
          "base_uri": "https://localhost:8080/"
        },
        "id": "g6HQ1V592qfZ",
        "outputId": "a74f9315-26c1-4817-971e-fd6f88095d27"
      },
      "execution_count": 101,
      "outputs": [
        {
          "output_type": "stream",
          "name": "stdout",
          "text": [
            "4\n"
          ]
        }
      ]
    },
    {
      "cell_type": "code",
      "source": [
        "x = 2\n",
        "x*=2\n",
        "print(x)"
      ],
      "metadata": {
        "colab": {
          "base_uri": "https://localhost:8080/"
        },
        "id": "nV7qPMlc3Jq1",
        "outputId": "aba8cfb6-6fc7-4d6e-cb6b-4a0e15d1e85a"
      },
      "execution_count": 102,
      "outputs": [
        {
          "output_type": "stream",
          "name": "stdout",
          "text": [
            "4\n"
          ]
        }
      ]
    },
    {
      "cell_type": "markdown",
      "source": [
        "##Absolute Value"
      ],
      "metadata": {
        "id": "Rv6csCRq3bNN"
      }
    },
    {
      "cell_type": "code",
      "source": [
        "print(abs(-4))"
      ],
      "metadata": {
        "colab": {
          "base_uri": "https://localhost:8080/"
        },
        "id": "GP8UB9hD3aQv",
        "outputId": "04549a10-6243-4f80-8d44-7e4cb72257c2"
      },
      "execution_count": 103,
      "outputs": [
        {
          "output_type": "stream",
          "name": "stdout",
          "text": [
            "4\n"
          ]
        }
      ]
    },
    {
      "cell_type": "markdown",
      "source": [
        "##Rounding up the number\n",
        "It rounds up the decimal to nearest value."
      ],
      "metadata": {
        "id": "kfJBkq-L3lZq"
      }
    },
    {
      "cell_type": "code",
      "source": [
        "print(round(10.34))"
      ],
      "metadata": {
        "colab": {
          "base_uri": "https://localhost:8080/"
        },
        "id": "V0Exwzhn3krv",
        "outputId": "f2029a6b-6398-426e-c7ed-529006be4138"
      },
      "execution_count": 104,
      "outputs": [
        {
          "output_type": "stream",
          "name": "stdout",
          "text": [
            "10\n"
          ]
        }
      ]
    },
    {
      "cell_type": "code",
      "source": [
        "print(round(10.75))"
      ],
      "metadata": {
        "colab": {
          "base_uri": "https://localhost:8080/"
        },
        "id": "y27Fq4E75rK7",
        "outputId": "6ec5fd21-236e-4bac-e47a-085955b77cd5"
      },
      "execution_count": 105,
      "outputs": [
        {
          "output_type": "stream",
          "name": "stdout",
          "text": [
            "11\n"
          ]
        }
      ]
    },
    {
      "cell_type": "markdown",
      "source": [
        "##Notice the difference in above two examples?"
      ],
      "metadata": {
        "id": "tCPZdGWB5wKh"
      }
    },
    {
      "cell_type": "markdown",
      "source": [
        "##For one decimal place"
      ],
      "metadata": {
        "id": "KhpR3XcO6GYx"
      }
    },
    {
      "cell_type": "code",
      "source": [
        "print(round(10.75,1)) # for 1 decimal place"
      ],
      "metadata": {
        "colab": {
          "base_uri": "https://localhost:8080/"
        },
        "id": "EYvlTS4A6BF-",
        "outputId": "41f45a59-c6b3-4825-aab4-35858368667a"
      },
      "execution_count": 106,
      "outputs": [
        {
          "output_type": "stream",
          "name": "stdout",
          "text": [
            "10.8\n"
          ]
        }
      ]
    },
    {
      "cell_type": "markdown",
      "source": [
        "##For two decimal place"
      ],
      "metadata": {
        "id": "flHc3_SA6TtW"
      }
    },
    {
      "cell_type": "code",
      "source": [
        "print(round(10.75,2)) # for 1 decimal place"
      ],
      "metadata": {
        "colab": {
          "base_uri": "https://localhost:8080/"
        },
        "id": "KRv5HbEA6S6N",
        "outputId": "1ec49356-1178-4e37-ea3d-92f04894e751"
      },
      "execution_count": 107,
      "outputs": [
        {
          "output_type": "stream",
          "name": "stdout",
          "text": [
            "10.75\n"
          ]
        }
      ]
    },
    {
      "cell_type": "markdown",
      "source": [
        "#**Comparisons**"
      ],
      "metadata": {
        "id": "VNHDq4Ve6jRk"
      }
    },
    {
      "cell_type": "code",
      "source": [
        "x = 2\n",
        "y = 3"
      ],
      "metadata": {
        "id": "8Kq0UYDe7EhZ"
      },
      "execution_count": 108,
      "outputs": []
    },
    {
      "cell_type": "markdown",
      "source": [
        "##Equal (x == y)"
      ],
      "metadata": {
        "id": "8XkHId6W6lg5"
      }
    },
    {
      "cell_type": "code",
      "source": [
        "print( x == y)"
      ],
      "metadata": {
        "colab": {
          "base_uri": "https://localhost:8080/"
        },
        "id": "FKZ6mulU7UjU",
        "outputId": "23886902-bc94-4612-f8dd-53692e2b9eb7"
      },
      "execution_count": 109,
      "outputs": [
        {
          "output_type": "stream",
          "name": "stdout",
          "text": [
            "False\n"
          ]
        }
      ]
    },
    {
      "cell_type": "markdown",
      "source": [
        "It returns False because x and y are not equal. "
      ],
      "metadata": {
        "id": "ohLF1pw87pl8"
      }
    },
    {
      "cell_type": "markdown",
      "source": [
        "##Not Equal (x != y)"
      ],
      "metadata": {
        "id": "eGfi-N7v7c12"
      }
    },
    {
      "cell_type": "code",
      "source": [
        "print(x != y)"
      ],
      "metadata": {
        "colab": {
          "base_uri": "https://localhost:8080/"
        },
        "id": "nHMz8kqO7gBp",
        "outputId": "f0165ca3-442e-4739-ce42-d624dd8ba06d"
      },
      "execution_count": 110,
      "outputs": [
        {
          "output_type": "stream",
          "name": "stdout",
          "text": [
            "True\n"
          ]
        }
      ]
    },
    {
      "cell_type": "markdown",
      "source": [
        "It returns True because x and y are not equal. "
      ],
      "metadata": {
        "id": "yzNUvUyi7kfM"
      }
    },
    {
      "cell_type": "markdown",
      "source": [
        "##Greater Than (x > y)"
      ],
      "metadata": {
        "id": "5Qkk4JOS7tG8"
      }
    },
    {
      "cell_type": "code",
      "source": [
        "print(x>y)"
      ],
      "metadata": {
        "colab": {
          "base_uri": "https://localhost:8080/"
        },
        "id": "QH3Chngj7z0Y",
        "outputId": "476f0a23-348c-4bd3-8823-796261633b1a"
      },
      "execution_count": 111,
      "outputs": [
        {
          "output_type": "stream",
          "name": "stdout",
          "text": [
            "False\n"
          ]
        }
      ]
    },
    {
      "cell_type": "markdown",
      "source": [
        "##Less Than (x < y)"
      ],
      "metadata": {
        "id": "QodXthNt74bn"
      }
    },
    {
      "cell_type": "code",
      "source": [
        "print(x<y)"
      ],
      "metadata": {
        "colab": {
          "base_uri": "https://localhost:8080/"
        },
        "id": "RYXRD7Zv78ow",
        "outputId": "21f50cd1-0aeb-48d4-c690-dc80b7d285d0"
      },
      "execution_count": 112,
      "outputs": [
        {
          "output_type": "stream",
          "name": "stdout",
          "text": [
            "True\n"
          ]
        }
      ]
    },
    {
      "cell_type": "markdown",
      "source": [
        "##Greater Than or Equal (x >= y)"
      ],
      "metadata": {
        "id": "V7Podsy_7_uP"
      }
    },
    {
      "cell_type": "code",
      "source": [
        "print(x >= y)"
      ],
      "metadata": {
        "colab": {
          "base_uri": "https://localhost:8080/"
        },
        "id": "Rxyuu47E8Kuz",
        "outputId": "a31c9d9f-c53a-4b42-f022-1b82591200dd"
      },
      "execution_count": 113,
      "outputs": [
        {
          "output_type": "stream",
          "name": "stdout",
          "text": [
            "False\n"
          ]
        }
      ]
    },
    {
      "cell_type": "markdown",
      "source": [
        "##Less Than or Equal (x <= y)"
      ],
      "metadata": {
        "id": "CKicdIk58HMK"
      }
    },
    {
      "cell_type": "code",
      "source": [
        "print(x <= y)"
      ],
      "metadata": {
        "colab": {
          "base_uri": "https://localhost:8080/"
        },
        "id": "G8TMR0j_8OXg",
        "outputId": "ef8fbe34-682d-469b-989e-d81def009701"
      },
      "execution_count": 114,
      "outputs": [
        {
          "output_type": "stream",
          "name": "stdout",
          "text": [
            "True\n"
          ]
        }
      ]
    },
    {
      "cell_type": "markdown",
      "source": [
        "#Variable looks like number"
      ],
      "metadata": {
        "id": "Qbm_Ps8l8Yn4"
      }
    },
    {
      "cell_type": "markdown",
      "source": [],
      "metadata": {
        "id": "nBL-RYj78bdp"
      }
    },
    {
      "cell_type": "code",
      "source": [
        "x = '200'\n",
        "y = '300'"
      ],
      "metadata": {
        "id": "9N7CAMqt8eQV"
      },
      "execution_count": 115,
      "outputs": []
    },
    {
      "cell_type": "code",
      "source": [
        "print( x + y)"
      ],
      "metadata": {
        "colab": {
          "base_uri": "https://localhost:8080/"
        },
        "id": "5MLPrFGP8kRc",
        "outputId": "5e38cff0-ac07-4695-badb-37cb1e5d47ca"
      },
      "execution_count": 116,
      "outputs": [
        {
          "output_type": "stream",
          "name": "stdout",
          "text": [
            "200300\n"
          ]
        }
      ]
    },
    {
      "cell_type": "markdown",
      "source": [
        "Did you notice why it did not print 500? It is because I explicitly set it as a *string* not a *number*.  "
      ],
      "metadata": {
        "id": "tmfLBygU8mqG"
      }
    },
    {
      "cell_type": "markdown",
      "source": [
        "##How to solve this issue?\n",
        "We can use casting. Here is how we can do it. "
      ],
      "metadata": {
        "id": "GbforMMn9GIC"
      }
    },
    {
      "cell_type": "code",
      "source": [
        "x = '200'\n",
        "y = '300'\n",
        "\n",
        "x = int(x) # I casted my string to integer. \n",
        "y = int(y) # I casted my string to integer. \n",
        "\n",
        "print(x + y)"
      ],
      "metadata": {
        "colab": {
          "base_uri": "https://localhost:8080/"
        },
        "id": "SSImsmex8_0I",
        "outputId": "9d45cad9-981c-428f-bbab-28988d036829"
      },
      "execution_count": 118,
      "outputs": [
        {
          "output_type": "stream",
          "name": "stdout",
          "text": [
            "500\n"
          ]
        }
      ]
    },
    {
      "cell_type": "markdown",
      "source": [
        "#What if my value had commas?"
      ],
      "metadata": {
        "id": "6aR6hQRp9-rz"
      }
    },
    {
      "cell_type": "code",
      "source": [
        "x = '2,000'\n",
        "y = '3,000'\n",
        "\n",
        "x = int(x) # I casted my string to integer. \n",
        "y = int(y) # I casted my string to integer. \n",
        "\n",
        "print(x + y)"
      ],
      "metadata": {
        "colab": {
          "base_uri": "https://localhost:8080/",
          "height": 235
        },
        "id": "uXzXExjO9u9F",
        "outputId": "993fd5ba-14e5-4b70-87c6-06029d67c086"
      },
      "execution_count": 121,
      "outputs": [
        {
          "output_type": "error",
          "ename": "ValueError",
          "evalue": "ignored",
          "traceback": [
            "\u001b[0;31m---------------------------------------------------------------------------\u001b[0m",
            "\u001b[0;31mValueError\u001b[0m                                Traceback (most recent call last)",
            "\u001b[0;32m<ipython-input-121-b721e6f212db>\u001b[0m in \u001b[0;36m<module>\u001b[0;34m\u001b[0m\n\u001b[1;32m      2\u001b[0m \u001b[0my\u001b[0m \u001b[0;34m=\u001b[0m \u001b[0;34m'3,000'\u001b[0m\u001b[0;34m\u001b[0m\u001b[0;34m\u001b[0m\u001b[0m\n\u001b[1;32m      3\u001b[0m \u001b[0;34m\u001b[0m\u001b[0m\n\u001b[0;32m----> 4\u001b[0;31m \u001b[0mx\u001b[0m \u001b[0;34m=\u001b[0m \u001b[0mint\u001b[0m\u001b[0;34m(\u001b[0m\u001b[0mx\u001b[0m\u001b[0;34m)\u001b[0m \u001b[0;31m# I casted my string to integer.\u001b[0m\u001b[0;34m\u001b[0m\u001b[0;34m\u001b[0m\u001b[0m\n\u001b[0m\u001b[1;32m      5\u001b[0m \u001b[0my\u001b[0m \u001b[0;34m=\u001b[0m \u001b[0mint\u001b[0m\u001b[0;34m(\u001b[0m\u001b[0my\u001b[0m\u001b[0;34m)\u001b[0m \u001b[0;31m# I casted my string to integer.\u001b[0m\u001b[0;34m\u001b[0m\u001b[0;34m\u001b[0m\u001b[0m\n\u001b[1;32m      6\u001b[0m \u001b[0;34m\u001b[0m\u001b[0m\n",
            "\u001b[0;31mValueError\u001b[0m: invalid literal for int() with base 10: '2,000'"
          ]
        }
      ]
    },
    {
      "cell_type": "markdown",
      "source": [
        "It returned error message saying, \"invalid literal for int() with base 10: '2,000'\". The same method did not work. That is why we need to use something called data cleaning. Here is an example how we do it. "
      ],
      "metadata": {
        "id": "bvL9Ka3S-Dey"
      }
    },
    {
      "cell_type": "code",
      "source": [
        "x = '2,000'\n",
        "y = '3,000'\n",
        "\n",
        "x = '2000'\n",
        "y = '3000'\n",
        "\n",
        "x = int(x) # I casted my string to integer. \n",
        "y = int(y) # I casted my string to integer. \n",
        "\n",
        "print(x + y)"
      ],
      "metadata": {
        "colab": {
          "base_uri": "https://localhost:8080/"
        },
        "id": "rzB77NmK-QFG",
        "outputId": "a756667c-41a0-4a80-fef2-93c88b964ef2"
      },
      "execution_count": 122,
      "outputs": [
        {
          "output_type": "stream",
          "name": "stdout",
          "text": [
            "5000\n"
          ]
        }
      ]
    },
    {
      "cell_type": "markdown",
      "source": [
        "#What if we have a large data set with similar case? Can we list it as one-by-one like this?\n",
        "Well, the answer is big **NO**.\n",
        "\n",
        "For the string cleaning this is one way of doing it. \n",
        "\n",
        "**https://github.com/khatriprajwol/Data-Set/blob/main/Stringcleaning.ipynb**\n",
        "\n"
      ],
      "metadata": {
        "id": "x-tckPqc-afm"
      }
    }
  ]
}